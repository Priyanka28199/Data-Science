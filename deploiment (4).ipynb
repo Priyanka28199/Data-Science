{
  "cells": [
    {
      "cell_type": "code",
      "execution_count": null,
      "metadata": {
        "colab": {
          "base_uri": "https://localhost:8080/"
        },
        "id": "VuQSWeQfFyXY",
        "outputId": "a9e546cb-7053-4595-eefb-67358f6793fc"
      },
      "outputs": [
        {
          "output_type": "stream",
          "name": "stdout",
          "text": [
            "Requirement already satisfied: streamlit in /usr/local/lib/python3.10/dist-packages (1.30.0)\n",
            "Requirement already satisfied: altair<6,>=4.0 in /usr/local/lib/python3.10/dist-packages (from streamlit) (4.2.2)\n",
            "Requirement already satisfied: blinker<2,>=1.0.0 in /usr/lib/python3/dist-packages (from streamlit) (1.4)\n",
            "Requirement already satisfied: cachetools<6,>=4.0 in /usr/local/lib/python3.10/dist-packages (from streamlit) (5.3.2)\n",
            "Requirement already satisfied: click<9,>=7.0 in /usr/local/lib/python3.10/dist-packages (from streamlit) (8.1.7)\n",
            "Requirement already satisfied: importlib-metadata<8,>=1.4 in /usr/local/lib/python3.10/dist-packages (from streamlit) (7.0.1)\n",
            "Requirement already satisfied: numpy<2,>=1.19.3 in /usr/local/lib/python3.10/dist-packages (from streamlit) (1.23.5)\n",
            "Requirement already satisfied: packaging<24,>=16.8 in /usr/local/lib/python3.10/dist-packages (from streamlit) (23.2)\n",
            "Requirement already satisfied: pandas<3,>=1.3.0 in /usr/local/lib/python3.10/dist-packages (from streamlit) (1.5.3)\n",
            "Requirement already satisfied: pillow<11,>=7.1.0 in /usr/local/lib/python3.10/dist-packages (from streamlit) (9.4.0)\n",
            "Requirement already satisfied: protobuf<5,>=3.20 in /usr/local/lib/python3.10/dist-packages (from streamlit) (3.20.3)\n",
            "Requirement already satisfied: pyarrow>=6.0 in /usr/local/lib/python3.10/dist-packages (from streamlit) (10.0.1)\n",
            "Requirement already satisfied: python-dateutil<3,>=2.7.3 in /usr/local/lib/python3.10/dist-packages (from streamlit) (2.8.2)\n",
            "Requirement already satisfied: requests<3,>=2.27 in /usr/local/lib/python3.10/dist-packages (from streamlit) (2.31.0)\n",
            "Requirement already satisfied: rich<14,>=10.14.0 in /usr/local/lib/python3.10/dist-packages (from streamlit) (13.7.0)\n",
            "Requirement already satisfied: tenacity<9,>=8.1.0 in /usr/local/lib/python3.10/dist-packages (from streamlit) (8.2.3)\n",
            "Requirement already satisfied: toml<2,>=0.10.1 in /usr/local/lib/python3.10/dist-packages (from streamlit) (0.10.2)\n",
            "Requirement already satisfied: typing-extensions<5,>=4.3.0 in /usr/local/lib/python3.10/dist-packages (from streamlit) (4.5.0)\n",
            "Requirement already satisfied: tzlocal<6,>=1.1 in /usr/local/lib/python3.10/dist-packages (from streamlit) (5.2)\n",
            "Requirement already satisfied: validators<1,>=0.2 in /usr/local/lib/python3.10/dist-packages (from streamlit) (0.22.0)\n",
            "Requirement already satisfied: gitpython!=3.1.19,<4,>=3.0.7 in /usr/local/lib/python3.10/dist-packages (from streamlit) (3.1.41)\n",
            "Requirement already satisfied: pydeck<1,>=0.8.0b4 in /usr/local/lib/python3.10/dist-packages (from streamlit) (0.8.1b0)\n",
            "Requirement already satisfied: tornado<7,>=6.0.3 in /usr/local/lib/python3.10/dist-packages (from streamlit) (6.3.2)\n",
            "Requirement already satisfied: watchdog>=2.1.5 in /usr/local/lib/python3.10/dist-packages (from streamlit) (3.0.0)\n",
            "Requirement already satisfied: entrypoints in /usr/local/lib/python3.10/dist-packages (from altair<6,>=4.0->streamlit) (0.4)\n",
            "Requirement already satisfied: jinja2 in /usr/local/lib/python3.10/dist-packages (from altair<6,>=4.0->streamlit) (3.1.2)\n",
            "Requirement already satisfied: jsonschema>=3.0 in /usr/local/lib/python3.10/dist-packages (from altair<6,>=4.0->streamlit) (4.19.2)\n",
            "Requirement already satisfied: toolz in /usr/local/lib/python3.10/dist-packages (from altair<6,>=4.0->streamlit) (0.12.0)\n",
            "Requirement already satisfied: gitdb<5,>=4.0.1 in /usr/local/lib/python3.10/dist-packages (from gitpython!=3.1.19,<4,>=3.0.7->streamlit) (4.0.11)\n",
            "Requirement already satisfied: zipp>=0.5 in /usr/local/lib/python3.10/dist-packages (from importlib-metadata<8,>=1.4->streamlit) (3.17.0)\n",
            "Requirement already satisfied: pytz>=2020.1 in /usr/local/lib/python3.10/dist-packages (from pandas<3,>=1.3.0->streamlit) (2023.3.post1)\n",
            "Requirement already satisfied: six>=1.5 in /usr/local/lib/python3.10/dist-packages (from python-dateutil<3,>=2.7.3->streamlit) (1.16.0)\n",
            "Requirement already satisfied: charset-normalizer<4,>=2 in /usr/local/lib/python3.10/dist-packages (from requests<3,>=2.27->streamlit) (3.3.2)\n",
            "Requirement already satisfied: idna<4,>=2.5 in /usr/local/lib/python3.10/dist-packages (from requests<3,>=2.27->streamlit) (3.6)\n",
            "Requirement already satisfied: urllib3<3,>=1.21.1 in /usr/local/lib/python3.10/dist-packages (from requests<3,>=2.27->streamlit) (2.0.7)\n",
            "Requirement already satisfied: certifi>=2017.4.17 in /usr/local/lib/python3.10/dist-packages (from requests<3,>=2.27->streamlit) (2023.11.17)\n",
            "Requirement already satisfied: markdown-it-py>=2.2.0 in /usr/local/lib/python3.10/dist-packages (from rich<14,>=10.14.0->streamlit) (3.0.0)\n",
            "Requirement already satisfied: pygments<3.0.0,>=2.13.0 in /usr/local/lib/python3.10/dist-packages (from rich<14,>=10.14.0->streamlit) (2.16.1)\n",
            "Requirement already satisfied: smmap<6,>=3.0.1 in /usr/local/lib/python3.10/dist-packages (from gitdb<5,>=4.0.1->gitpython!=3.1.19,<4,>=3.0.7->streamlit) (5.0.1)\n",
            "Requirement already satisfied: MarkupSafe>=2.0 in /usr/local/lib/python3.10/dist-packages (from jinja2->altair<6,>=4.0->streamlit) (2.1.3)\n",
            "Requirement already satisfied: attrs>=22.2.0 in /usr/local/lib/python3.10/dist-packages (from jsonschema>=3.0->altair<6,>=4.0->streamlit) (23.2.0)\n",
            "Requirement already satisfied: jsonschema-specifications>=2023.03.6 in /usr/local/lib/python3.10/dist-packages (from jsonschema>=3.0->altair<6,>=4.0->streamlit) (2023.12.1)\n",
            "Requirement already satisfied: referencing>=0.28.4 in /usr/local/lib/python3.10/dist-packages (from jsonschema>=3.0->altair<6,>=4.0->streamlit) (0.32.1)\n",
            "Requirement already satisfied: rpds-py>=0.7.1 in /usr/local/lib/python3.10/dist-packages (from jsonschema>=3.0->altair<6,>=4.0->streamlit) (0.16.2)\n",
            "Requirement already satisfied: mdurl~=0.1 in /usr/local/lib/python3.10/dist-packages (from markdown-it-py>=2.2.0->rich<14,>=10.14.0->streamlit) (0.1.2)\n"
          ]
        }
      ],
      "source": [
        "!pip install streamlit"
      ]
    },
    {
      "cell_type": "code",
      "execution_count": null,
      "metadata": {
        "colab": {
          "base_uri": "https://localhost:8080/"
        },
        "id": "Jir27IJCGYN2",
        "outputId": "0412c837-edda-4336-ded1-b1bf92e1b4db"
      },
      "outputs": [
        {
          "output_type": "stream",
          "name": "stdout",
          "text": [
            "Overwriting app.py\n"
          ]
        }
      ],
      "source": [
        "%%writefile app.py\n",
        "import streamlit as st\n",
        "import numpy as np\n",
        "import pandas as pd\n",
        "from PIL import Image\n",
        "from sklearn.neighbors import KNeighborsClassifier\n",
        "from xgboost import XGBClassifier\n",
        "from sklearn.model_selection import train_test_split\n",
        "import base64\n",
        "from sklearn.preprocessing import LabelEncoder,StandardScaler\n",
        "from sklearn.svm import SVC\n",
        "\n",
        "logo=Image.open('/content/logo.jpg')\n",
        "st.set_page_config(page_title=\"Telecommucation Churn Prediction App\",page_icon=logo)\n",
        "\n",
        "\n",
        "# Load and preprocess training data\n",
        "chrn_d = pd.read_excel(\"/content/churn_model.xlsx\")\n",
        "label_encoder = LabelEncoder()\n",
        "chrn_d['state'] = label_encoder.fit_transform(chrn_d['state'])\n",
        "\n",
        "\n",
        "def preprocess_user_input(user_input, label_encoder, states_list):\n",
        "    # Map 'Yes' to 1 and 'No' to 0 for categorical columns\n",
        "    user_input['voice.plan'] = user_input['voice.plan'].apply(lambda x: 1 if x == 'Yes' else 0)\n",
        "    user_input['area.code'] = user_input['area.code'].map({'area_code_415': 1, 'area_code_408': 0, 'area_code_510': 2})\n",
        "    # Convert 'state' to numerical using the provided list of states\n",
        "    user_input['state'] = states_list.index(user_input['state'].iloc[0])\n",
        "    return user_input\n",
        "\n",
        "\n",
        "#html for header\n",
        "html_temp = \"\"\"\n",
        "<div style =\"background-color:yellow;padding:13px\">\n",
        "<h1 style =\"color:black;text-align:center;\"> Telecommucation Churn Prediction</h1>\n",
        "</div>\n",
        "<br>\n",
        "\"\"\"\n",
        "st.markdown(html_temp, unsafe_allow_html = True)\n",
        "\n",
        "#image\n",
        "image= Image.open('/content/churn_pic.webp')\n",
        "st.image(image,use_column_width=False,width=706)\n",
        "\n",
        "states_list = ['AK', 'AL', 'AR', 'AZ', 'CA', 'CO', 'CT', 'DC', 'DE', 'FL', 'GA', 'HI', 'IA', 'ID', 'IL', 'IN', 'KS', 'KY', 'LA', 'MA', 'MD', 'ME', 'MI', 'MN', 'MO', 'MS', 'MT', 'NC', 'ND', 'NE', 'NH', 'NJ', 'NM', 'NV', 'NY', 'OH', 'OK', 'OR', 'PA', 'RI', 'SC', 'SD', 'TN', 'TX', 'UT', 'VA', 'VT', 'WA', 'WI', 'WV', 'WY']\n",
        "\n",
        "\n",
        "#user inputs\n",
        "def user_fea():\n",
        "    state=st.sidebar.selectbox(\" Enter the State\",['KS','OH', 'NJ', 'OK', 'AL', 'MA', 'MO', 'LA', 'WV', 'IN', 'RI','IA', 'MT', 'NY', 'ID', 'VT', 'VA', 'TX', 'FL', 'CO', 'AZ', 'SC','NE', 'WY', 'HI', 'IL', 'NH', 'GA', 'AK', 'MD', 'AR', 'WI', 'OR','MI', 'DE', 'UT', 'CA', 'MN', 'SD', 'NC', 'WA', 'NM', 'NV', 'DC','KY', 'ME', 'MS', 'TN', 'PA', 'CT', 'ND'])\n",
        "    area=st.sidebar.selectbox(\"Enter an Area Code\",['area_code_415', 'area_code_408', 'area_code_510'])\n",
        "    account=st.sidebar.number_input(\"Enter an Accout Tenure\")\n",
        "    voice_plan=st.sidebar.radio(\"Has the customer opted for a voice plan\",[\"Yes\",\"No\"])\n",
        "    voice_msg=st.sidebar.number_input(\"Count of voicemail messages\")\n",
        "    inter_mins=st.sidebar.number_input(\"Customer's international call duration\")\n",
        "    inter_calls=st.sidebar.number_input(\"Count of internation calls\")\n",
        "    inter_charge=st.sidebar.number_input(\"International service usage charges\")\n",
        "    day_mins=st.sidebar.number_input(\"Customer's Daytime call duration\")\n",
        "    day_calls=st.sidebar.number_input(\"Count of Daytime calls\")\n",
        "    day_crg=st.sidebar.number_input(\"Total charge during Daytime\")\n",
        "    eve_mins=st.sidebar.number_input(\"Customer's Eveningtime call duration\")\n",
        "    eve_calls=st.sidebar.number_input(\"Count of Eveningtime calls\")\n",
        "    eve_crg=st.sidebar.number_input(\"Total charge during Eveningtime\")\n",
        "    n8_mins=st.sidebar.number_input(\"Customer's Nighttime call duration\")\n",
        "    n8_calls=st.sidebar.number_input(\"Count of Nighttime calls\")\n",
        "    n8_crg=st.sidebar.number_input(\"Total charge during Nighttime\")\n",
        "    cst=st.sidebar.number_input(\"Count of calls to Customer Service\")\n",
        "    data={\"state\":state,\"area.code\":area,\"account.length\":account,\"voice.plan\":voice_plan,\"voice.messages\":voice_msg,\"intl.mins\":inter_mins,\"intl.calls\":inter_calls,\"intl.charge\":inter_charge,\"day.mins\":day_mins,\"day.calls\":day_calls,\"day.charge\":day_crg,\"eve.mins\":eve_mins,\"eve.calls\":eve_calls,\"eve.charge\":eve_crg,\"night.mins\":n8_mins,\"night.calls\":n8_calls,\"night.charge\":n8_crg,\"customer.calls\":cst}\n",
        "    df=pd.DataFrame(data,index=[0])\n",
        "    return df\n",
        "#user df\n",
        "df1=user_fea()\n",
        "st.subheader(\"User Input Parameters:\")\n",
        "st.write(df1)\n",
        "\n",
        "# preprocess user input using the fitted label_encoder\n",
        "df1 = preprocess_user_input(df1, label_encoder,states_list)\n",
        "\n",
        "\n",
        "x=chrn_d.iloc[:,:-1]\n",
        "y=chrn_d.iloc[:,-1]\n",
        "\n",
        "model_knei=KNeighborsClassifier(n_neighbors=21)\n",
        "model_knei.fit(x,y)\n",
        "\n",
        "# prediction\n",
        "y_pred_knei = model_knei.predict(df1)\n",
        "pred_prob = model_knei.predict_proba(df1)\n",
        "\n",
        "st.subheader(\"Churn Probability\")\n",
        "\n",
        "# Convert NumPy array to DataFrame\n",
        "pred_prob_df = pd.DataFrame(pred_prob*100,columns=[\"No\",\"yes\"]).round(2)\n",
        "pred_prob_df = pred_prob_df.applymap(lambda x: f'{x:.2f}%')\n",
        "\n",
        "# Display the DataFrame\n",
        "st.write(pred_prob_df)\n",
        "if st.button(\"Predict\"):\n",
        "    result =\"likely  to experiance churn.\" if pred_prob[0][1]>0.5 else \" expected to retain or stay with the service.\"\n",
        "    st.success('The customer is  {}'.format(result))"
      ]
    },
    {
      "cell_type": "code",
      "execution_count": null,
      "metadata": {
        "colab": {
          "base_uri": "https://localhost:8080/"
        },
        "id": "jfKzrgbd2DrK",
        "outputId": "4cc0ddfe-9a6f-483d-8f31-2a3b58b072f2"
      },
      "outputs": [
        {
          "output_type": "stream",
          "name": "stdout",
          "text": [
            "\u001b[K\u001b[?25h\u001b[37;40mnpm\u001b[0m \u001b[0m\u001b[30;43mWARN\u001b[0m \u001b[0m\u001b[35msaveError\u001b[0m ENOENT: no such file or directory, open '/content/package.json'\n",
            "\u001b[0m\u001b[37;40mnpm\u001b[0m \u001b[0m\u001b[30;43mWARN\u001b[0m \u001b[0m\u001b[35menoent\u001b[0m ENOENT: no such file or directory, open '/content/package.json'\n",
            "\u001b[0m\u001b[37;40mnpm\u001b[0m \u001b[0m\u001b[30;43mWARN\u001b[0m\u001b[35m\u001b[0m content No description\n",
            "\u001b[0m\u001b[37;40mnpm\u001b[0m \u001b[0m\u001b[30;43mWARN\u001b[0m\u001b[35m\u001b[0m content No repository field.\n",
            "\u001b[0m\u001b[37;40mnpm\u001b[0m \u001b[0m\u001b[30;43mWARN\u001b[0m\u001b[35m\u001b[0m content No README data\n",
            "\u001b[0m\u001b[37;40mnpm\u001b[0m \u001b[0m\u001b[30;43mWARN\u001b[0m\u001b[35m\u001b[0m content No license field.\n",
            "\u001b[0m\n",
            "+ localtunnel@2.0.2\n",
            "updated 1 package and audited 36 packages in 0.628s\n",
            "\n",
            "3 packages are looking for funding\n",
            "  run `npm fund` for details\n",
            "\n",
            "found 2 \u001b[93mmoderate\u001b[0m severity vulnerabilities\n",
            "  run `npm audit fix` to fix them, or `npm audit` for details\n",
            "\u001b[K\u001b[?25h"
          ]
        }
      ],
      "source": [
        "!npm install localtunnel"
      ]
    },
    {
      "cell_type": "code",
      "execution_count": 28,
      "metadata": {
        "colab": {
          "base_uri": "https://localhost:8080/"
        },
        "id": "BwQn3zWij1oH",
        "outputId": "12789b6f-d29d-4324-9ef1-c87ad3315685"
      },
      "outputs": [
        {
          "output_type": "stream",
          "name": "stdout",
          "text": [
            "35.203.175.87\n",
            "\u001b[K\u001b[?25hnpx: installed 22 in 3.133s\n",
            "your url is: https://early-walls-repeat.loca.lt\n"
          ]
        }
      ],
      "source": [
        "!streamlit run app.py &>/content/logs.txt & npx localtunnel --port 8501 & curl ipv4.icanhazip.com"
      ]
    },
    {
      "cell_type": "code",
      "source": [],
      "metadata": {
        "id": "y4ArwqQ6Ap4E"
      },
      "execution_count": null,
      "outputs": []
    }
  ],
  "metadata": {
    "colab": {
      "provenance": []
    },
    "kernelspec": {
      "display_name": "Python 3",
      "name": "python3"
    },
    "language_info": {
      "name": "python"
    }
  },
  "nbformat": 4,
  "nbformat_minor": 0
}